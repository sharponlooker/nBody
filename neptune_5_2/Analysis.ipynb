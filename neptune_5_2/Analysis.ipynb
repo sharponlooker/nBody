{
 "cells": [
  {
   "cell_type": "code",
   "execution_count": null,
   "metadata": {
    "collapsed": true
   },
   "outputs": [],
   "source": [
    "import psycopg2\n",
    "import matplotlib.pyplot as plt\n",
    "import numpy as np\n",
    "import math\n",
    "\n",
    "%matplotlib inline\n",
    "\n",
    "import pandas as pd\n",
    "from pandas.plotting import scatter_matrix\n",
    "\n",
    "# https://pandas.pydata.org/pandas-docs/stable/visualization.html#plotting-tools"
   ]
  },
  {
   "cell_type": "code",
   "execution_count": null,
   "metadata": {
    "collapsed": true
   },
   "outputs": [],
   "source": [
    "dbName = 'nBody'\n",
    "dbHost = 'localhost'\n",
    "dbUsername = 'username'\n",
    "dbPassword = 'password'"
   ]
  },
  {
   "cell_type": "code",
   "execution_count": null,
   "metadata": {
    "collapsed": true
   },
   "outputs": [],
   "source": [
    "conn = psycopg2.connect(\"dbname='{0}' user='{1}' host='{2}' password='{3}'\".format(dbName, dbUsername, dbHost, dbPassword))\n",
    "db = conn.cursor()"
   ]
  },
  {
   "cell_type": "code",
   "execution_count": null,
   "metadata": {
    "collapsed": true
   },
   "outputs": [],
   "source": [
    "#non-resonant pid => 2930773953\n",
    "#resonant pid => 87897423\n",
    "db.execute(\"select a, e, i, ascendingNode, l, f  from particlesimentry where pid = 2930773953\")\n",
    "data = db.fetchall()"
   ]
  },
  {
   "cell_type": "code",
   "execution_count": null,
   "metadata": {
    "collapsed": true
   },
   "outputs": [],
   "source": [
    "#plt.scatter(*zip(*data));\n",
    "p = pd.DataFrame(data, columns = ['a', 'e', 'i', 'ascendingNode', 'l', 'f' ])"
   ]
  },
  {
   "cell_type": "code",
   "execution_count": null,
   "metadata": {},
   "outputs": [],
   "source": [
    "#p.plot.scatter('a','e');\n",
    "#p.e.plot.line();\n",
    "scatter_matrix(p, alpha=0.2, figsize=(8, 8), diagonal='kde');"
   ]
  },
  {
   "cell_type": "code",
   "execution_count": null,
   "metadata": {
    "collapsed": true
   },
   "outputs": [],
   "source": [
    "#non-resonant pid => 2930773953\n",
    "#resonant pid => 87897423\n",
    "db.execute(\"select a, e, i, ascendingNode, l, f, resonantAngle from particlesimentry where pid = 87897423\")\n",
    "data = db.fetchall()"
   ]
  },
  {
   "cell_type": "code",
   "execution_count": null,
   "metadata": {
    "collapsed": true
   },
   "outputs": [],
   "source": [
    "#plt.scatter(*zip(*data));\n",
    "p = pd.DataFrame(data, columns = ['a', 'e', 'i', 'ascendingNode', 'l', 'f', 'resonantAngle' ])"
   ]
  },
  {
   "cell_type": "code",
   "execution_count": null,
   "metadata": {
    "scrolled": false
   },
   "outputs": [],
   "source": [
    "#p.plot.scatter('a','e');\n",
    "#p.plot.line(y='e');\n",
    "from pandas.plotting import scatter_matrix\n",
    "scatter_matrix(p, alpha=0.2, figsize=(8, 8), diagonal='kde');"
   ]
  },
  {
   "cell_type": "code",
   "execution_count": null,
   "metadata": {},
   "outputs": [],
   "source": [
    "p.resonantAngle.plot.line();"
   ]
  },
  {
   "cell_type": "code",
   "execution_count": null,
   "metadata": {
    "collapsed": true
   },
   "outputs": [],
   "source": [
    "db.execute(\"select pid, AVG(resonantAngle), MAX(resonantAngle) as resmax, MIN(resonantAngle) as resmin FROM particlesimentry p \"\n",
    "        ' WHERE pid NOT IN (SELECT pid FROM \"DiscardedParticles\") '\n",
    "        \" GROUP BY pid \"\n",
    "#        \" HAVING MAX(resonantAngle) - MIN(resonantAngle) <= 175\"\n",
    "        \" HAVING MAX(resonantAngle) - MIN(resonantAngle) <= 350\"\n",
    "              )\n",
    "data = db.fetchall()"
   ]
  },
  {
   "cell_type": "code",
   "execution_count": null,
   "metadata": {},
   "outputs": [],
   "source": [
    "len(data)"
   ]
  },
  {
   "cell_type": "code",
   "execution_count": null,
   "metadata": {},
   "outputs": [],
   "source": [
    "d = [x[1] for x in data]\n",
    "\n",
    "binwidth = 2\n",
    "bins = np.arange(min(d), max(d) + binwidth, binwidth)\n",
    "\n",
    "\n",
    "plt.rcParams['figure.figsize'] = (15, 5)\n",
    "plt.hist(d, bins=bins);"
   ]
  },
  {
   "cell_type": "code",
   "execution_count": null,
   "metadata": {},
   "outputs": [],
   "source": [
    "d = [x[2] - x[3] for x in data]\n",
    "\n",
    "binwidth = 20\n",
    "bins = np.arange(min(d), max(d) + binwidth, binwidth)\n",
    "\n",
    "\n",
    "plt.rcParams['figure.figsize'] = (8, 5)\n",
    "plt.hist(d, bins=bins);\n",
    "plt.xlabel(\"amplitude\");\n",
    "plt.ylabel(\"number of particles\");\n"
   ]
  },
  {
   "cell_type": "code",
   "execution_count": null,
   "metadata": {},
   "outputs": [],
   "source": [
    "frame = pd.DataFrame(d)\n",
    "frame.plot.kde();"
   ]
  },
  {
   "cell_type": "code",
   "execution_count": null,
   "metadata": {},
   "outputs": [],
   "source": [
    "resonantCandidates = [x for x in data if x[1] >= 175 and x[1] <= 185]\n",
    "len(resonantCandidates)"
   ]
  },
  {
   "cell_type": "code",
   "execution_count": null,
   "metadata": {
    "collapsed": true
   },
   "outputs": [],
   "source": [
    "db.execute(\"select a, e FROM particlesimentry AS p\"\n",
    "        \" WHERE t = 10000000 AND p.pid IN ( \" + ','.join([str(x[0]) for x in resonantCandidates]) + \")\"\n",
    "          )\n",
    "\n",
    "lastParameters = db.fetchall()\n",
    "\n"
   ]
  },
  {
   "cell_type": "code",
   "execution_count": null,
   "metadata": {},
   "outputs": [],
   "source": [
    "eccentricities = [x[1] for x in lastParameters]\n",
    "\n",
    "binwidth = 0.05\n",
    "bins = np.arange(min(eccentricities), max(eccentricities) + binwidth, binwidth)\n",
    "\n",
    "\n",
    "plt.rcParams['figure.figsize'] = (8, 5)\n",
    "plt.hist(eccentricities, bins=bins);\n",
    "plt.xlabel(\"eccentricity\");\n",
    "plt.ylabel(\"number of particles\");\n"
   ]
  },
  {
   "cell_type": "code",
   "execution_count": null,
   "metadata": {},
   "outputs": [],
   "source": [
    "frame = pd.DataFrame(eccentricities)\n",
    "frame.plot.kde();"
   ]
  },
  {
   "cell_type": "code",
   "execution_count": null,
   "metadata": {
    "collapsed": true
   },
   "outputs": [],
   "source": [
    "db.execute(\"select p.a / neptune.a, p.e FROM particlesimentry AS p\"\n",
    "        \" JOIN planetsimentry as neptune ON neptune.planet = 3 AND neptune.t = p.t \"\n",
    "        \" WHERE p.pid IN ( \" + ','.join([str(x[0]) for x in resonantCandidates]) + \") \"\n",
    "          )\n",
    "\n",
    "resonantParameters = db.fetchall()"
   ]
  },
  {
   "cell_type": "code",
   "execution_count": null,
   "metadata": {},
   "outputs": [],
   "source": [
    "plt.scatter(*zip(*resonantParameters), s = 0.1);\n",
    "plt.xlim(1.805, 1.880);\n",
    "plt.ylim(0, 1);\n",
    "plt.rcParams['figure.figsize'] = (10, 8);\n",
    "plt.xlabel(\"a/aN\");\n",
    "plt.ylabel(\"eccentricity\");\n",
    "\n"
   ]
  },
  {
   "cell_type": "code",
   "execution_count": null,
   "metadata": {
    "collapsed": true
   },
   "outputs": [],
   "source": [
    "conn.close()"
   ]
  }
 ],
 "metadata": {
  "kernelspec": {
   "display_name": "Python 3",
   "language": "python",
   "name": "python3"
  },
  "language_info": {
   "codemirror_mode": {
    "name": "ipython",
    "version": 3
   },
   "file_extension": ".py",
   "mimetype": "text/x-python",
   "name": "python",
   "nbconvert_exporter": "python",
   "pygments_lexer": "ipython3",
   "version": "3.6.0"
  }
 },
 "nbformat": 4,
 "nbformat_minor": 2
}
